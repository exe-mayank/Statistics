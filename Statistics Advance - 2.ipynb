{
  "metadata": {
    "kernelspec": {
      "name": "python",
      "display_name": "Python (Pyodide)",
      "language": "python"
    },
    "language_info": {
      "codemirror_mode": {
        "name": "python",
        "version": 3
      },
      "file_extension": ".py",
      "mimetype": "text/x-python",
      "name": "python",
      "nbconvert_exporter": "python",
      "pygments_lexer": "ipython3",
      "version": "3.8"
    }
  },
  "nbformat_minor": 5,
  "nbformat": 4,
  "cells": [
    {
      "id": "a73daaa3-5d62-4d99-8501-feb7e33050ba",
      "cell_type": "markdown",
      "source": "Question1: Define the z-statistic and explain its relationship to the standard normal distribution. How is the z-statistic used in hypothesis testing?",
      "metadata": {}
    },
    {
      "id": "6774c731-2240-4670-96a5-2f4b988491c4",
      "cell_type": "markdown",
      "source": "The z-statistic, also known as the z-score, is a statistical measure that describes a data point's position in relation to the mean of a distribution, \nexpressed in terms of standard deviations. Specifically, it measures how many standard deviations a data point is away from the mean of the distribution.\n\nRelationship to the Standard Normal Distribution:\nThe z-statistic follows a standard normal distribution (also known as the z-distribution), which is a normal distribution with a mean of 0 and a standard deviation of 1. This relationship is critical because the standard normal distribution can be used to calculate the probability of a value occurring within a given range of z-scores.\n\nA z-score of 0 means the value is exactly at the mean.\n\nPositive z-scores indicate values above the mean.\n\nNegative z-scores indicate values below the mean.\n\nBy transforming data into z-scores, we can make inferences about how likely or unlikely an observation is within a normal distribution. The z-score provides a way to standardize data, allowing for comparison across different distributions.\n\nUse of the Z-Statistic in Hypothesis Testing:\nIn hypothesis testing, the z-statistic is commonly used in z-tests to determine whether a sample mean significantly differs from a hypothesized population mean. Here's how it's used:\n\nFormulate Hypotheses:\n\nNull Hypothesis (H₀): The assumption that there is no effect or difference \n\nAlternative Hypothesis (H₁): The assumption that there is a significant effect or difference \n\nCalculate the Z-Statistic: Using the formula for the z-statistic, calculate the z-value for the observed data.\n\nDetermine the Critical Value or P-Value:\n\nThe critical value corresponds to the z-value that defines the rejection region for the test (usually at a chosen significance level, such as 0.05).\n\nAlternatively, the p-value is computed, which is the probability of obtaining a z-statistic as extreme as the observed one, assuming the null hypothesis is true.\n\nDecision Rule:\n\nIf the z-statistic falls within the critical region (i.e., the extreme tail of the normal distribution), or if the p-value is less than the significance level (e.g., 𝑝 < 0.05), we reject the null hypothesis in favor of the alternative hypothesis.\n\nIf the z-statistic does not fall in the rejection region (i.e., it is close to 0 or within the middle of the distribution), or if the p-value is greater than the significance level, we fail to reject the null hypothesis.",
      "metadata": {}
    },
    {
      "id": "337039a8-4580-44ba-85e1-e7269382bf24",
      "cell_type": "markdown",
      "source": "Question2 : What is a p-value, and how is it used in hypothesis testing? What does it mean if the p-value is\nvery small (e.g., 0.01)?",
      "metadata": {}
    },
    {
      "id": "6297bac5-5a5e-4944-8564-c34fd5aa25a8",
      "cell_type": "markdown",
      "source": "A p-value (short for \"probability value\") is a measure used in statistical hypothesis testing to help determine the strength of the evidence against the null hypothesis. Specifically, the p-value quantifies the probability of obtaining test results at least as extreme as the ones observed, assuming that the null hypothesis is true.\n\nIn simpler terms, the p-value helps answer the question: How likely is it to observe the data (or something more extreme) if the null hypothesis is correct?\n\nHow is the P-Value Used in Hypothesis Testing?\nThe p-value is used in hypothesis testing to decide whether to reject or fail to reject the null hypothesis (𝐻0):\n\nFormulate Hypotheses:\n\nNull Hypothesis (H₀): The assumption that there is no effect, difference, or relationship (e.g., 𝜇=𝜇0).\n\nAlternative Hypothesis (H₁): The assumption that there is a significant effect, difference, or relationship (e.g., 𝜇≠𝜇0).\n\nCalculate the Test Statistic: Compute the test statistic (e.g., z-statistic, t-statistic) based on your sample data.\n\nFind the P-Value: The p-value is calculated from the test statistic. This is the probability of observing a test statistic at least as extreme as the one you computed, given that the null hypothesis is true.\n\nDecision Rule:\n\nIf the p-value is less than or equal to the chosen significance level (𝛼), you reject the null hypothesis. This indicates that the observed data is sufficiently unlikely under the null hypothesis, providing evidence for the alternative hypothesis.\n\nIf the p-value is greater than the significance level (𝛼), you fail to reject the null hypothesis. This suggests that the observed data is not unusual enough to cast doubt on the null hypothesis.\n\nThe significance level (𝛼\nα) is a threshold you set before testing, often 0.05 (5%) or 0.01 (1%).\n\nWhat Does It Mean if the P-Value is Very Small (e.g., 0.01)?\nIf the p-value is very small (for example, 0.01), it means that there is a low probability of observing the data (or something more extreme) if the null hypothesis were true. In this case, a small p-value suggests strong evidence against the null hypothesis.\n\nFor instance, a p-value of 0.01 means that there is only a 1% chance of observing the sample data (or more extreme results) if the null hypothesis is true. This is considered strong evidence to reject the null hypothesis in favor of the alternative hypothesis, assuming the significance level (\n𝛼\nα) is set at 0.05.",
      "metadata": {}
    }
  ]
}